{
 "cells": [
  {
   "cell_type": "markdown",
   "metadata": {},
   "source": [
    "# Customer Analysis"
   ]
  },
  {
   "cell_type": "markdown",
   "metadata": {},
   "source": [
    "## Problem (case study)"
   ]
  },
  {
   "cell_type": "markdown",
   "metadata": {},
   "source": [
    "### Abstract\n",
    "\n",
    "**Data Description**:  \n",
    "\n",
    "+ **customer :** `Customer ID`                        \n",
    "+ **state :** `US State`                      \n",
    "+ **customer_lifetime_value :** `CLV is the client economic value for a company during all their relationship`\n",
    "+ **response :**  `Response to marketing calls (customer engagement)`                   \n",
    "+ **coverage :** `Customer coverage type`                        \n",
    "+ **education** `Customer education level`                   \n",
    "+ **effective_to_date :** `Effective to date`              \n",
    "+ **employmentstatus :** `Customer employment status`                \n",
    "+ **gender :**  `Customer gender`                  \n",
    "+ **income :**  `Customer income`\n",
    "+ **location_code :** `Customer living zone`                  \n",
    "+ **marital_status :** `Customer marital status`                  \n",
    "+ **monthly_premium_auto :** `Monthly premium`            \n",
    "+ **months_since_last_claim :** `Last customer claim`          \n",
    "+ **months_since_policy_inception :** `Policy Inception`    \n",
    "+ **number_of_open_complaints :** `Open claims`        \n",
    "+ **number_of_policies :** `Number policies`              \n",
    "+ **policy_type :** `Policy type`                     \n",
    "+ **policy :** `Policy`                         \n",
    "+ **renew_offer_type :**  `Renew offer`                 \n",
    "+ **sales_channel :**  `Sales channel (customer-company first contact)`                 \n",
    "+ **total_claim_amount :** `Claims amount`              \n",
    "+ **vehicle_class :**  `Vehicle class`                 \n",
    "+ **vehicle_size :**  `Vehicle size`  \n",
    "\n",
    "\n",
    "**Goals:**\n",
    "\n",
    "Improve CLV with marketing aproach.\n"
   ]
  },
  {
   "cell_type": "code",
   "execution_count": 1,
   "metadata": {},
   "outputs": [],
   "source": [
    "import matplotlib.pyplot as plt\n",
    "import seaborn as sns\n",
    "%matplotlib inline\n",
    "\n",
    "import pandas as pd    \n",
    "\n",
    "pd.set_option('display.max_columns', None)"
   ]
  },
  {
   "cell_type": "markdown",
   "metadata": {},
   "source": [
    "## Getting Data"
   ]
  },
  {
   "cell_type": "code",
   "execution_count": 2,
   "metadata": {},
   "outputs": [
    {
     "data": {
      "text/html": [
       "<div>\n",
       "<style scoped>\n",
       "    .dataframe tbody tr th:only-of-type {\n",
       "        vertical-align: middle;\n",
       "    }\n",
       "\n",
       "    .dataframe tbody tr th {\n",
       "        vertical-align: top;\n",
       "    }\n",
       "\n",
       "    .dataframe thead th {\n",
       "        text-align: right;\n",
       "    }\n",
       "</style>\n",
       "<table border=\"1\" class=\"dataframe\">\n",
       "  <thead>\n",
       "    <tr style=\"text-align: right;\">\n",
       "      <th></th>\n",
       "      <th>customer</th>\n",
       "      <th>state</th>\n",
       "      <th>customer_lifetime_value</th>\n",
       "      <th>response</th>\n",
       "      <th>coverage</th>\n",
       "      <th>education</th>\n",
       "      <th>effective_to_date</th>\n",
       "      <th>employmentstatus</th>\n",
       "      <th>gender</th>\n",
       "      <th>income</th>\n",
       "      <th>location_code</th>\n",
       "      <th>marital_status</th>\n",
       "      <th>monthly_premium_auto</th>\n",
       "      <th>months_since_last_claim</th>\n",
       "      <th>months_since_policy_inception</th>\n",
       "      <th>number_of_open_complaints</th>\n",
       "      <th>number_of_policies</th>\n",
       "      <th>policy_type</th>\n",
       "      <th>policy</th>\n",
       "      <th>renew_offer_type</th>\n",
       "      <th>sales_channel</th>\n",
       "      <th>total_claim_amount</th>\n",
       "      <th>vehicle_class</th>\n",
       "      <th>vehicle_size</th>\n",
       "    </tr>\n",
       "  </thead>\n",
       "  <tbody>\n",
       "    <tr>\n",
       "      <th>0</th>\n",
       "      <td>BU79786</td>\n",
       "      <td>Washington</td>\n",
       "      <td>2763.519279</td>\n",
       "      <td>No</td>\n",
       "      <td>Basic</td>\n",
       "      <td>Bachelor</td>\n",
       "      <td>2/24/11</td>\n",
       "      <td>Employed</td>\n",
       "      <td>F</td>\n",
       "      <td>56274</td>\n",
       "      <td>Suburban</td>\n",
       "      <td>Married</td>\n",
       "      <td>69</td>\n",
       "      <td>32</td>\n",
       "      <td>5</td>\n",
       "      <td>0</td>\n",
       "      <td>1</td>\n",
       "      <td>Corporate Auto</td>\n",
       "      <td>Corporate L3</td>\n",
       "      <td>Offer1</td>\n",
       "      <td>Agent</td>\n",
       "      <td>384.811147</td>\n",
       "      <td>Two-Door Car</td>\n",
       "      <td>Medsize</td>\n",
       "    </tr>\n",
       "    <tr>\n",
       "      <th>1</th>\n",
       "      <td>QZ44356</td>\n",
       "      <td>Arizona</td>\n",
       "      <td>6979.535903</td>\n",
       "      <td>No</td>\n",
       "      <td>Extended</td>\n",
       "      <td>Bachelor</td>\n",
       "      <td>1/31/11</td>\n",
       "      <td>Unemployed</td>\n",
       "      <td>F</td>\n",
       "      <td>0</td>\n",
       "      <td>Suburban</td>\n",
       "      <td>Single</td>\n",
       "      <td>94</td>\n",
       "      <td>13</td>\n",
       "      <td>42</td>\n",
       "      <td>0</td>\n",
       "      <td>8</td>\n",
       "      <td>Personal Auto</td>\n",
       "      <td>Personal L3</td>\n",
       "      <td>Offer3</td>\n",
       "      <td>Agent</td>\n",
       "      <td>1131.464935</td>\n",
       "      <td>Four-Door Car</td>\n",
       "      <td>Medsize</td>\n",
       "    </tr>\n",
       "    <tr>\n",
       "      <th>2</th>\n",
       "      <td>AI49188</td>\n",
       "      <td>Nevada</td>\n",
       "      <td>12887.431650</td>\n",
       "      <td>No</td>\n",
       "      <td>Premium</td>\n",
       "      <td>Bachelor</td>\n",
       "      <td>2/19/11</td>\n",
       "      <td>Employed</td>\n",
       "      <td>F</td>\n",
       "      <td>48767</td>\n",
       "      <td>Suburban</td>\n",
       "      <td>Married</td>\n",
       "      <td>108</td>\n",
       "      <td>18</td>\n",
       "      <td>38</td>\n",
       "      <td>0</td>\n",
       "      <td>2</td>\n",
       "      <td>Personal Auto</td>\n",
       "      <td>Personal L3</td>\n",
       "      <td>Offer1</td>\n",
       "      <td>Agent</td>\n",
       "      <td>566.472247</td>\n",
       "      <td>Two-Door Car</td>\n",
       "      <td>Medsize</td>\n",
       "    </tr>\n",
       "    <tr>\n",
       "      <th>3</th>\n",
       "      <td>WW63253</td>\n",
       "      <td>California</td>\n",
       "      <td>7645.861827</td>\n",
       "      <td>No</td>\n",
       "      <td>Basic</td>\n",
       "      <td>Bachelor</td>\n",
       "      <td>1/20/11</td>\n",
       "      <td>Unemployed</td>\n",
       "      <td>M</td>\n",
       "      <td>0</td>\n",
       "      <td>Suburban</td>\n",
       "      <td>Married</td>\n",
       "      <td>106</td>\n",
       "      <td>18</td>\n",
       "      <td>65</td>\n",
       "      <td>0</td>\n",
       "      <td>7</td>\n",
       "      <td>Corporate Auto</td>\n",
       "      <td>Corporate L2</td>\n",
       "      <td>Offer1</td>\n",
       "      <td>Call Center</td>\n",
       "      <td>529.881344</td>\n",
       "      <td>SUV</td>\n",
       "      <td>Medsize</td>\n",
       "    </tr>\n",
       "    <tr>\n",
       "      <th>4</th>\n",
       "      <td>HB64268</td>\n",
       "      <td>Washington</td>\n",
       "      <td>2813.692575</td>\n",
       "      <td>No</td>\n",
       "      <td>Basic</td>\n",
       "      <td>Bachelor</td>\n",
       "      <td>2/3/11</td>\n",
       "      <td>Employed</td>\n",
       "      <td>M</td>\n",
       "      <td>43836</td>\n",
       "      <td>Rural</td>\n",
       "      <td>Single</td>\n",
       "      <td>73</td>\n",
       "      <td>12</td>\n",
       "      <td>44</td>\n",
       "      <td>0</td>\n",
       "      <td>1</td>\n",
       "      <td>Personal Auto</td>\n",
       "      <td>Personal L1</td>\n",
       "      <td>Offer1</td>\n",
       "      <td>Agent</td>\n",
       "      <td>138.130879</td>\n",
       "      <td>Four-Door Car</td>\n",
       "      <td>Medsize</td>\n",
       "    </tr>\n",
       "  </tbody>\n",
       "</table>\n",
       "</div>"
      ],
      "text/plain": [
       "  customer       state  customer_lifetime_value response  coverage education  \\\n",
       "0  BU79786  Washington              2763.519279       No     Basic  Bachelor   \n",
       "1  QZ44356     Arizona              6979.535903       No  Extended  Bachelor   \n",
       "2  AI49188      Nevada             12887.431650       No   Premium  Bachelor   \n",
       "3  WW63253  California              7645.861827       No     Basic  Bachelor   \n",
       "4  HB64268  Washington              2813.692575       No     Basic  Bachelor   \n",
       "\n",
       "  effective_to_date employmentstatus gender  income location_code  \\\n",
       "0           2/24/11         Employed      F   56274      Suburban   \n",
       "1           1/31/11       Unemployed      F       0      Suburban   \n",
       "2           2/19/11         Employed      F   48767      Suburban   \n",
       "3           1/20/11       Unemployed      M       0      Suburban   \n",
       "4            2/3/11         Employed      M   43836         Rural   \n",
       "\n",
       "  marital_status  monthly_premium_auto  months_since_last_claim  \\\n",
       "0        Married                    69                       32   \n",
       "1         Single                    94                       13   \n",
       "2        Married                   108                       18   \n",
       "3        Married                   106                       18   \n",
       "4         Single                    73                       12   \n",
       "\n",
       "   months_since_policy_inception  number_of_open_complaints  \\\n",
       "0                              5                          0   \n",
       "1                             42                          0   \n",
       "2                             38                          0   \n",
       "3                             65                          0   \n",
       "4                             44                          0   \n",
       "\n",
       "   number_of_policies     policy_type        policy renew_offer_type  \\\n",
       "0                   1  Corporate Auto  Corporate L3           Offer1   \n",
       "1                   8   Personal Auto   Personal L3           Offer3   \n",
       "2                   2   Personal Auto   Personal L3           Offer1   \n",
       "3                   7  Corporate Auto  Corporate L2           Offer1   \n",
       "4                   1   Personal Auto   Personal L1           Offer1   \n",
       "\n",
       "  sales_channel  total_claim_amount  vehicle_class vehicle_size  \n",
       "0         Agent          384.811147   Two-Door Car      Medsize  \n",
       "1         Agent         1131.464935  Four-Door Car      Medsize  \n",
       "2         Agent          566.472247   Two-Door Car      Medsize  \n",
       "3   Call Center          529.881344            SUV      Medsize  \n",
       "4         Agent          138.130879  Four-Door Car      Medsize  "
      ]
     },
     "execution_count": 2,
     "metadata": {},
     "output_type": "execute_result"
    }
   ],
   "source": [
    "data=pd.read_csv('data/Marketing-Customer-Analysis.csv')    \n",
    "\n",
    "data.columns=[e.lower().replace(' ', '_') for e in data.columns]\n",
    "\n",
    "data.head()    "
   ]
  },
  {
   "cell_type": "markdown",
   "metadata": {},
   "source": [
    "## EDA "
   ]
  },
  {
   "cell_type": "markdown",
   "metadata": {},
   "source": [
    "#### Target"
   ]
  },
  {
   "cell_type": "code",
   "execution_count": 3,
   "metadata": {},
   "outputs": [
    {
     "data": {
      "text/plain": [
       "count     9134.000000\n",
       "mean      8004.940475\n",
       "std       6870.967608\n",
       "min       1898.007675\n",
       "25%       3994.251794\n",
       "50%       5780.182197\n",
       "75%       8962.167041\n",
       "max      83325.381190\n",
       "Name: customer_lifetime_value, dtype: float64"
      ]
     },
     "execution_count": 3,
     "metadata": {},
     "output_type": "execute_result"
    }
   ],
   "source": [
    "data.customer_lifetime_value.describe()"
   ]
  },
  {
   "cell_type": "code",
   "execution_count": 4,
   "metadata": {},
   "outputs": [
    {
     "data": {
      "image/png": "[encoded data removed]",
      "text/plain": [
       "<Figure size 432x288 with 1 Axes>"
      ]
     },
     "metadata": {
      "needs_background": "light"
     },
     "output_type": "display_data"
    }
   ],
   "source": [
    "sns.distplot(data.customer_lifetime_value);"
   ]
  },
  {
   "cell_type": "code",
   "execution_count": 5,
   "metadata": {},
   "outputs": [
    {
     "data": {
      "image/png": "[encoded data removed]",
      "text/plain": [
       "<Figure size 432x288 with 1 Axes>"
      ]
     },
     "metadata": {
      "needs_background": "light"
     },
     "output_type": "display_data"
    }
   ],
   "source": [
    "sns.distplot(data.customer_lifetime_value, \n",
    "             hist_kws={'cumulative':True}, \n",
    "             kde_kws={'cumulative':True});"
   ]
  },
  {
   "cell_type": "markdown",
   "metadata": {},
   "source": [
    "#### Analysis"
   ]
  },
  {
   "cell_type": "markdown",
   "metadata": {},
   "source": [
    "#### a) Getting the total numbers of customers who have responded to marketing calls"
   ]
  },
  {
   "cell_type": "code",
   "execution_count": 6,
   "metadata": {},
   "outputs": [
    {
     "data": {
      "text/plain": [
       "response\n",
       "No     7826\n",
       "Yes    1308\n",
       "Name: customer, dtype: int64"
      ]
     },
     "execution_count": 6,
     "metadata": {},
     "output_type": "execute_result"
    }
   ],
   "source": [
    "data.groupby('response').count().customer"
   ]
  },
  {
   "cell_type": "code",
   "execution_count": 7,
   "metadata": {},
   "outputs": [
    {
     "data": {
      "image/png": "[encoded data removed]",
      "text/plain": [
       "<Figure size 864x576 with 1 Axes>"
      ]
     },
     "metadata": {
      "needs_background": "light"
     },
     "output_type": "display_data"
    }
   ],
   "source": [
    "# bar chart\n",
    "\n",
    "ax=data.groupby('response').count().customer.plot(\n",
    "                 kind='bar',\n",
    "                 color=['r', 'b'],\n",
    "                 grid=True,\n",
    "                 figsize=(12,8),\n",
    "                 title='Marketing Engagement')\n",
    "\n",
    "ax.set_xlabel('Engaged')\n",
    "ax.set_ylabel('Count')\n",
    "\n",
    "plt.show();"
   ]
  },
  {
   "cell_type": "code",
   "execution_count": 8,
   "metadata": {},
   "outputs": [
    {
     "data": {
      "text/plain": [
       "response\n",
       "No     0.856799\n",
       "Yes    0.143201\n",
       "Name: customer, dtype: float64"
      ]
     },
     "execution_count": 8,
     "metadata": {},
     "output_type": "execute_result"
    }
   ],
   "source": [
    "# % of engaged and non-engaged users\n",
    "\n",
    "data.groupby('response').count().customer/data.shape[0]"
   ]
  },
  {
   "cell_type": "markdown",
   "metadata": {},
   "source": [
    "**From this output we can see that only 14% of the customers responded to marketing calls**"
   ]
  },
  {
   "cell_type": "markdown",
   "metadata": {},
   "source": [
    "#### b) Renew offer\n",
    "\n",
    "We will now look at the Renew offer type column of the dataframe. Let's find out what type of offer worked best for the customers"
   ]
  },
  {
   "cell_type": "code",
   "execution_count": 9,
   "metadata": {},
   "outputs": [
    {
     "data": {
      "text/plain": [
       "renew_offer_type\n",
       "Offer1    0.158316\n",
       "Offer2    0.233766\n",
       "Offer3    0.020950\n",
       "Offer4         NaN\n",
       "Name: customer, dtype: float64"
      ]
     },
     "execution_count": 9,
     "metadata": {},
     "output_type": "execute_result"
    }
   ],
   "source": [
    "# count only engaged customers grouped by renewal offer type\n",
    "\n",
    "by_offer_type=data.loc[data.response=='Yes']\\\n",
    "                  .groupby(['renew_offer_type'])\\\n",
    "                  .count().customer/data.groupby('renew_offer_type').count().customer\n",
    "\n",
    "by_offer_type"
   ]
  },
  {
   "cell_type": "code",
   "execution_count": 10,
   "metadata": {},
   "outputs": [
    {
     "data": {
      "image/png": "[encoded data removed]",
      "text/plain": [
       "<Figure size 864x576 with 1 Axes>"
      ]
     },
     "metadata": {
      "needs_background": "light"
     },
     "output_type": "display_data"
    }
   ],
   "source": [
    "# bar plot\n",
    "ax=(by_offer_type*100.0).plot(kind='bar', figsize=(12,8),\n",
    "                              color=['r','b','g','y'], grid=True)\n",
    "\n",
    "ax.set_ylabel('Engagement Rate %')\n",
    "\n",
    "plt.show();"
   ]
  },
  {
   "cell_type": "markdown",
   "metadata": {},
   "source": [
    "**We can see that Offer Type 2 has the highest engagement rate**"
   ]
  },
  {
   "cell_type": "markdown",
   "metadata": {},
   "source": [
    "#### c) Renew/Attribute\n",
    "\n",
    "\n",
    "We are going to understand how customers with different attributes respond differently to different marketing messages. We start looking at the engagements rates by each offer type and vehicle class.¶\n"
   ]
  },
  {
   "cell_type": "code",
   "execution_count": 11,
   "metadata": {},
   "outputs": [],
   "source": [
    "def engage(res, group1, group2):\n",
    "    df=data.loc[data.response==res].groupby([group1,group2])\\\n",
    "           .count().customer/data.groupby(group1).count().customer  # customers grouping the data by these two columns\n",
    "    \n",
    "    df=df.unstack().fillna(0)    # using unstack function to make it more readable\n",
    "    \n",
    "    ax=(df*100.0).plot(kind='bar', figsize=(12, 8), grid=True)  # bar plot (%)\n",
    "\n",
    "    ax.set_ylabel('Engagement Rate (%)')\n",
    "    plt.show();\n",
    "    \n",
    "    return df"
   ]
  },
  {
   "cell_type": "code",
   "execution_count": 12,
   "metadata": {},
   "outputs": [
    {
     "data": {
      "image/png": "[encoded data removed]",
      "text/plain": [
       "<Figure size 864x576 with 1 Axes>"
      ]
     },
     "metadata": {
      "needs_background": "light"
     },
     "output_type": "display_data"
    },
    {
     "data": {
      "text/html": [
       "<div>\n",
       "<style scoped>\n",
       "    .dataframe tbody tr th:only-of-type {\n",
       "        vertical-align: middle;\n",
       "    }\n",
       "\n",
       "    .dataframe tbody tr th {\n",
       "        vertical-align: top;\n",
       "    }\n",
       "\n",
       "    .dataframe thead th {\n",
       "        text-align: right;\n",
       "    }\n",
       "</style>\n",
       "<table border=\"1\" class=\"dataframe\">\n",
       "  <thead>\n",
       "    <tr style=\"text-align: right;\">\n",
       "      <th>vehicle_class</th>\n",
       "      <th>Four-Door Car</th>\n",
       "      <th>Luxury Car</th>\n",
       "      <th>Luxury SUV</th>\n",
       "      <th>SUV</th>\n",
       "      <th>Sports Car</th>\n",
       "      <th>Two-Door Car</th>\n",
       "    </tr>\n",
       "    <tr>\n",
       "      <th>renew_offer_type</th>\n",
       "      <th></th>\n",
       "      <th></th>\n",
       "      <th></th>\n",
       "      <th></th>\n",
       "      <th></th>\n",
       "      <th></th>\n",
       "    </tr>\n",
       "  </thead>\n",
       "  <tbody>\n",
       "    <tr>\n",
       "      <th>Offer1</th>\n",
       "      <td>0.070362</td>\n",
       "      <td>0.001599</td>\n",
       "      <td>0.004797</td>\n",
       "      <td>0.044776</td>\n",
       "      <td>0.011194</td>\n",
       "      <td>0.025586</td>\n",
       "    </tr>\n",
       "    <tr>\n",
       "      <th>Offer2</th>\n",
       "      <td>0.114833</td>\n",
       "      <td>0.002051</td>\n",
       "      <td>0.004101</td>\n",
       "      <td>0.041012</td>\n",
       "      <td>0.016405</td>\n",
       "      <td>0.055366</td>\n",
       "    </tr>\n",
       "    <tr>\n",
       "      <th>Offer3</th>\n",
       "      <td>0.016760</td>\n",
       "      <td>0.000000</td>\n",
       "      <td>0.000000</td>\n",
       "      <td>0.000000</td>\n",
       "      <td>0.000000</td>\n",
       "      <td>0.004190</td>\n",
       "    </tr>\n",
       "  </tbody>\n",
       "</table>\n",
       "</div>"
      ],
      "text/plain": [
       "vehicle_class     Four-Door Car  Luxury Car  Luxury SUV       SUV  Sports Car  \\\n",
       "renew_offer_type                                                                \n",
       "Offer1                 0.070362    0.001599    0.004797  0.044776    0.011194   \n",
       "Offer2                 0.114833    0.002051    0.004101  0.041012    0.016405   \n",
       "Offer3                 0.016760    0.000000    0.000000  0.000000    0.000000   \n",
       "\n",
       "vehicle_class     Two-Door Car  \n",
       "renew_offer_type                \n",
       "Offer1                0.025586  \n",
       "Offer2                0.055366  \n",
       "Offer3                0.004190  "
      ]
     },
     "execution_count": 12,
     "metadata": {},
     "output_type": "execute_result"
    }
   ],
   "source": [
    "engage('Yes', 'renew_offer_type', 'vehicle_class')"
   ]
  },
  {
   "cell_type": "markdown",
   "metadata": {},
   "source": [
    "**We already knew from the previous section “Engagement Rates by Offer Type” that Offer2 had the highest response rate among customers. Now we can add more insights by having broken down the customer attributes with the category “Vehicle class”: we can notice that customers with Four-Door Car respond more frequentlyfor all offer types and that those with “Luxury SUV” respond with a higher chance to Offer1 than to Offer2.If we have significantly difference in the response rates among different customer rates, we can fine-tune who to target for different set of offers.**"
   ]
  },
  {
   "cell_type": "code",
   "execution_count": 13,
   "metadata": {},
   "outputs": [
    {
     "data": {
      "text/plain": [
       "Index(['customer', 'state', 'customer_lifetime_value', 'response', 'coverage',\n",
       "       'education', 'effective_to_date', 'employmentstatus', 'gender',\n",
       "       'income', 'location_code', 'marital_status', 'monthly_premium_auto',\n",
       "       'months_since_last_claim', 'months_since_policy_inception',\n",
       "       'number_of_open_complaints', 'number_of_policies', 'policy_type',\n",
       "       'policy', 'renew_offer_type', 'sales_channel', 'total_claim_amount',\n",
       "       'vehicle_class', 'vehicle_size'],\n",
       "      dtype='object')"
      ]
     },
     "execution_count": 13,
     "metadata": {},
     "output_type": "execute_result"
    }
   ],
   "source": [
    "data.columns"
   ]
  },
  {
   "cell_type": "code",
   "execution_count": 14,
   "metadata": {},
   "outputs": [
    {
     "data": {
      "image/png": "[encoded data removed]",
      "text/plain": [
       "<Figure size 864x576 with 1 Axes>"
      ]
     },
     "metadata": {
      "needs_background": "light"
     },
     "output_type": "display_data"
    },
    {
     "data": {
      "text/html": [
       "<div>\n",
       "<style scoped>\n",
       "    .dataframe tbody tr th:only-of-type {\n",
       "        vertical-align: middle;\n",
       "    }\n",
       "\n",
       "    .dataframe tbody tr th {\n",
       "        vertical-align: top;\n",
       "    }\n",
       "\n",
       "    .dataframe thead th {\n",
       "        text-align: right;\n",
       "    }\n",
       "</style>\n",
       "<table border=\"1\" class=\"dataframe\">\n",
       "  <thead>\n",
       "    <tr style=\"text-align: right;\">\n",
       "      <th>state</th>\n",
       "      <th>Arizona</th>\n",
       "      <th>California</th>\n",
       "      <th>Nevada</th>\n",
       "      <th>Oregon</th>\n",
       "      <th>Washington</th>\n",
       "    </tr>\n",
       "    <tr>\n",
       "      <th>renew_offer_type</th>\n",
       "      <th></th>\n",
       "      <th></th>\n",
       "      <th></th>\n",
       "      <th></th>\n",
       "      <th></th>\n",
       "    </tr>\n",
       "  </thead>\n",
       "  <tbody>\n",
       "    <tr>\n",
       "      <th>Offer1</th>\n",
       "      <td>0.155917</td>\n",
       "      <td>0.284115</td>\n",
       "      <td>0.083422</td>\n",
       "      <td>0.242804</td>\n",
       "      <td>0.075426</td>\n",
       "    </tr>\n",
       "    <tr>\n",
       "      <th>Offer2</th>\n",
       "      <td>0.145933</td>\n",
       "      <td>0.263500</td>\n",
       "      <td>0.073137</td>\n",
       "      <td>0.216336</td>\n",
       "      <td>0.067327</td>\n",
       "    </tr>\n",
       "    <tr>\n",
       "      <th>Offer3</th>\n",
       "      <td>0.179469</td>\n",
       "      <td>0.352654</td>\n",
       "      <td>0.089385</td>\n",
       "      <td>0.273045</td>\n",
       "      <td>0.084497</td>\n",
       "    </tr>\n",
       "    <tr>\n",
       "      <th>Offer4</th>\n",
       "      <td>0.186523</td>\n",
       "      <td>0.343750</td>\n",
       "      <td>0.100586</td>\n",
       "      <td>0.283203</td>\n",
       "      <td>0.085938</td>\n",
       "    </tr>\n",
       "  </tbody>\n",
       "</table>\n",
       "</div>"
      ],
      "text/plain": [
       "state              Arizona  California    Nevada    Oregon  Washington\n",
       "renew_offer_type                                                      \n",
       "Offer1            0.155917    0.284115  0.083422  0.242804    0.075426\n",
       "Offer2            0.145933    0.263500  0.073137  0.216336    0.067327\n",
       "Offer3            0.179469    0.352654  0.089385  0.273045    0.084497\n",
       "Offer4            0.186523    0.343750  0.100586  0.283203    0.085938"
      ]
     },
     "execution_count": 14,
     "metadata": {},
     "output_type": "execute_result"
    }
   ],
   "source": [
    "engage('No', 'renew_offer_type', 'state')"
   ]
  },
  {
   "cell_type": "markdown",
   "metadata": {},
   "source": [
    "#### d) Analyzing engagement rates by gender"
   ]
  },
  {
   "cell_type": "code",
   "execution_count": 15,
   "metadata": {},
   "outputs": [
    {
     "data": {
      "text/plain": [
       "gender\n",
       "F    14.169171\n",
       "M    14.477212\n",
       "Name: customer, dtype: float64"
      ]
     },
     "execution_count": 15,
     "metadata": {},
     "output_type": "execute_result"
    }
   ],
   "source": [
    "by_gender=data.loc[data.response=='Yes'].groupby('gender')\\\n",
    "                     .count().customer/data.groupby('gender').count().customer*100\n",
    "\n",
    "by_gender"
   ]
  },
  {
   "cell_type": "code",
   "execution_count": 16,
   "metadata": {},
   "outputs": [
    {
     "data": {
      "image/png": "[encoded data removed]",
      "text/plain": [
       "<Figure size 864x576 with 1 Axes>"
      ]
     },
     "metadata": {
      "needs_background": "light"
     },
     "output_type": "display_data"
    }
   ],
   "source": [
    "ax=by_gender.plot(kind='bar', figsize=(12,8),\n",
    "                                 color=['r','b','g','y'], grid=True)\n",
    "\n",
    "ax.set_ylabel('Engagement Rate %')\n",
    "\n",
    "plt.show();"
   ]
  },
  {
   "cell_type": "code",
   "execution_count": 17,
   "metadata": {},
   "outputs": [
    {
     "data": {
      "image/png": "[encoded data removed]",
      "text/plain": [
       "<Figure size 864x576 with 1 Axes>"
      ]
     },
     "metadata": {
      "needs_background": "light"
     },
     "output_type": "display_data"
    },
    {
     "data": {
      "text/html": [
       "<div>\n",
       "<style scoped>\n",
       "    .dataframe tbody tr th:only-of-type {\n",
       "        vertical-align: middle;\n",
       "    }\n",
       "\n",
       "    .dataframe tbody tr th {\n",
       "        vertical-align: top;\n",
       "    }\n",
       "\n",
       "    .dataframe thead th {\n",
       "        text-align: right;\n",
       "    }\n",
       "</style>\n",
       "<table border=\"1\" class=\"dataframe\">\n",
       "  <thead>\n",
       "    <tr style=\"text-align: right;\">\n",
       "      <th>vehicle_class</th>\n",
       "      <th>Four-Door Car</th>\n",
       "      <th>Luxury Car</th>\n",
       "      <th>Luxury SUV</th>\n",
       "      <th>SUV</th>\n",
       "      <th>Sports Car</th>\n",
       "      <th>Two-Door Car</th>\n",
       "    </tr>\n",
       "    <tr>\n",
       "      <th>gender</th>\n",
       "      <th></th>\n",
       "      <th></th>\n",
       "      <th></th>\n",
       "      <th></th>\n",
       "      <th></th>\n",
       "      <th></th>\n",
       "    </tr>\n",
       "  </thead>\n",
       "  <tbody>\n",
       "    <tr>\n",
       "      <th>F</th>\n",
       "      <td>0.446973</td>\n",
       "      <td>0.013525</td>\n",
       "      <td>0.013954</td>\n",
       "      <td>0.165736</td>\n",
       "      <td>0.045513</td>\n",
       "      <td>0.172606</td>\n",
       "    </tr>\n",
       "    <tr>\n",
       "      <th>M</th>\n",
       "      <td>0.427837</td>\n",
       "      <td>0.019660</td>\n",
       "      <td>0.019884</td>\n",
       "      <td>0.164433</td>\n",
       "      <td>0.040661</td>\n",
       "      <td>0.182752</td>\n",
       "    </tr>\n",
       "  </tbody>\n",
       "</table>\n",
       "</div>"
      ],
      "text/plain": [
       "vehicle_class  Four-Door Car  Luxury Car  Luxury SUV       SUV  Sports Car  \\\n",
       "gender                                                                       \n",
       "F                   0.446973    0.013525    0.013954  0.165736    0.045513   \n",
       "M                   0.427837    0.019660    0.019884  0.164433    0.040661   \n",
       "\n",
       "vehicle_class  Two-Door Car  \n",
       "gender                       \n",
       "F                  0.172606  \n",
       "M                  0.182752  "
      ]
     },
     "execution_count": 17,
     "metadata": {},
     "output_type": "execute_result"
    }
   ],
   "source": [
    "engage('No', 'gender', 'vehicle_class')"
   ]
  },
  {
   "cell_type": "markdown",
   "metadata": {},
   "source": [
    "**The classes are balanced. But we can see less female response. On the other hand, men have no engage if they have luxury cars.**"
   ]
  },
  {
   "cell_type": "markdown",
   "metadata": {},
   "source": [
    "#### e) Analyzing engagement rates by different sales channel"
   ]
  },
  {
   "cell_type": "code",
   "execution_count": 18,
   "metadata": {},
   "outputs": [
    {
     "data": {
      "text/plain": [
       "sales_channel\n",
       "Agent          19.154443\n",
       "Branch         11.453058\n",
       "Call Center    10.878187\n",
       "Web            11.773585\n",
       "Name: customer, dtype: float64"
      ]
     },
     "execution_count": 18,
     "metadata": {},
     "output_type": "execute_result"
    }
   ],
   "source": [
    "by_sales_channel=data.loc[data.response=='Yes'].groupby('sales_channel')\\\n",
    "                     .count().customer/data.groupby('sales_channel').count().customer*100\n",
    "\n",
    "by_sales_channel"
   ]
  },
  {
   "cell_type": "code",
   "execution_count": 19,
   "metadata": {},
   "outputs": [
    {
     "data": {
      "image/png": "[encoded data removed]",
      "text/plain": [
       "<Figure size 864x576 with 1 Axes>"
      ]
     },
     "metadata": {
      "needs_background": "light"
     },
     "output_type": "display_data"
    }
   ],
   "source": [
    "# bar plot\n",
    "ax=by_sales_channel.plot(kind='bar', figsize=(12,8),\n",
    "                                 color=['r','b','g','y'], grid=True)\n",
    "\n",
    "ax.set_ylabel('Engagement Rate %')\n",
    "\n",
    "plt.show();"
   ]
  },
  {
   "cell_type": "markdown",
   "metadata": {},
   "source": [
    "**As we can notice, Agent works better in term of getting responses from the customers, and then sales through Web works the second best. We can check other relationships.**"
   ]
  },
  {
   "cell_type": "code",
   "execution_count": 20,
   "metadata": {},
   "outputs": [
    {
     "data": {
      "image/png": "[encoded data removed]",
      "text/plain": [
       "<Figure size 864x576 with 1 Axes>"
      ]
     },
     "metadata": {
      "needs_background": "light"
     },
     "output_type": "display_data"
    },
    {
     "data": {
      "text/html": [
       "<div>\n",
       "<style scoped>\n",
       "    .dataframe tbody tr th:only-of-type {\n",
       "        vertical-align: middle;\n",
       "    }\n",
       "\n",
       "    .dataframe tbody tr th {\n",
       "        vertical-align: top;\n",
       "    }\n",
       "\n",
       "    .dataframe thead th {\n",
       "        text-align: right;\n",
       "    }\n",
       "</style>\n",
       "<table border=\"1\" class=\"dataframe\">\n",
       "  <thead>\n",
       "    <tr style=\"text-align: right;\">\n",
       "      <th>renew_offer_type</th>\n",
       "      <th>Offer1</th>\n",
       "      <th>Offer2</th>\n",
       "      <th>Offer3</th>\n",
       "    </tr>\n",
       "    <tr>\n",
       "      <th>sales_channel</th>\n",
       "      <th></th>\n",
       "      <th></th>\n",
       "      <th></th>\n",
       "    </tr>\n",
       "  </thead>\n",
       "  <tbody>\n",
       "    <tr>\n",
       "      <th>Agent</th>\n",
       "      <td>0.096635</td>\n",
       "      <td>0.089733</td>\n",
       "      <td>0.005177</td>\n",
       "    </tr>\n",
       "    <tr>\n",
       "      <th>Branch</th>\n",
       "      <td>0.065446</td>\n",
       "      <td>0.049085</td>\n",
       "      <td>0.000000</td>\n",
       "    </tr>\n",
       "    <tr>\n",
       "      <th>Call Center</th>\n",
       "      <td>0.023796</td>\n",
       "      <td>0.084986</td>\n",
       "      <td>0.000000</td>\n",
       "    </tr>\n",
       "    <tr>\n",
       "      <th>Web</th>\n",
       "      <td>0.036226</td>\n",
       "      <td>0.072453</td>\n",
       "      <td>0.009057</td>\n",
       "    </tr>\n",
       "  </tbody>\n",
       "</table>\n",
       "</div>"
      ],
      "text/plain": [
       "renew_offer_type    Offer1    Offer2    Offer3\n",
       "sales_channel                                 \n",
       "Agent             0.096635  0.089733  0.005177\n",
       "Branch            0.065446  0.049085  0.000000\n",
       "Call Center       0.023796  0.084986  0.000000\n",
       "Web               0.036226  0.072453  0.009057"
      ]
     },
     "execution_count": 20,
     "metadata": {},
     "output_type": "execute_result"
    }
   ],
   "source": [
    "# Checking how different offers work on different sales channels \n",
    "\n",
    "engage('Yes', 'sales_channel', 'renew_offer_type')"
   ]
  },
  {
   "cell_type": "markdown",
   "metadata": {},
   "source": [
    "**As we can see, offer type 3 does not work on branch and call center sales channel. Offer type 1 needs improve in call centers.**"
   ]
  },
  {
   "cell_type": "markdown",
   "metadata": {},
   "source": [
    "#### e) Simple Clustering\n",
    "\n",
    "We are going to segment our customer base by Customer Lifetime Value and Months Since Policy Inception."
   ]
  },
  {
   "cell_type": "markdown",
   "metadata": {},
   "source": [
    "For the previous output, we are going to define those customers with a CLV higher than the median as high-CLV customers, and those with a CLV lower than the median as low-CLV customers."
   ]
  },
  {
   "cell_type": "code",
   "execution_count": 21,
   "metadata": {},
   "outputs": [],
   "source": [
    "data['clv_segment']=data.customer_lifetime_value\\\n",
    "                        .apply(lambda x: 'high' if x>data.customer_lifetime_value.median() else 'low')"
   ]
  },
  {
   "cell_type": "code",
   "execution_count": 22,
   "metadata": {},
   "outputs": [
    {
     "data": {
      "text/plain": [
       "count    9134.000000\n",
       "mean       48.064594\n",
       "std        27.905991\n",
       "min         0.000000\n",
       "25%        24.000000\n",
       "50%        48.000000\n",
       "75%        71.000000\n",
       "max        99.000000\n",
       "Name: months_since_policy_inception, dtype: float64"
      ]
     },
     "execution_count": 22,
     "metadata": {},
     "output_type": "execute_result"
    }
   ],
   "source": [
    "#doing the same for Months Since Policy Inception \n",
    "\n",
    "data.months_since_policy_inception.describe()"
   ]
  },
  {
   "cell_type": "code",
   "execution_count": 23,
   "metadata": {},
   "outputs": [],
   "source": [
    "data['policy_age_segment']=data.months_since_policy_inception\\\n",
    "                               .apply(lambda x: 'high' if x>data.months_since_policy_inception.median() else 'low')"
   ]
  },
  {
   "cell_type": "code",
   "execution_count": 24,
   "metadata": {},
   "outputs": [
    {
     "data": {
      "text/html": [
       "<div>\n",
       "<style scoped>\n",
       "    .dataframe tbody tr th:only-of-type {\n",
       "        vertical-align: middle;\n",
       "    }\n",
       "\n",
       "    .dataframe tbody tr th {\n",
       "        vertical-align: top;\n",
       "    }\n",
       "\n",
       "    .dataframe thead th {\n",
       "        text-align: right;\n",
       "    }\n",
       "</style>\n",
       "<table border=\"1\" class=\"dataframe\">\n",
       "  <thead>\n",
       "    <tr style=\"text-align: right;\">\n",
       "      <th></th>\n",
       "      <th>customer</th>\n",
       "      <th>state</th>\n",
       "      <th>customer_lifetime_value</th>\n",
       "      <th>response</th>\n",
       "      <th>coverage</th>\n",
       "      <th>education</th>\n",
       "      <th>effective_to_date</th>\n",
       "      <th>employmentstatus</th>\n",
       "      <th>gender</th>\n",
       "      <th>income</th>\n",
       "      <th>location_code</th>\n",
       "      <th>marital_status</th>\n",
       "      <th>monthly_premium_auto</th>\n",
       "      <th>months_since_last_claim</th>\n",
       "      <th>months_since_policy_inception</th>\n",
       "      <th>number_of_open_complaints</th>\n",
       "      <th>number_of_policies</th>\n",
       "      <th>policy_type</th>\n",
       "      <th>policy</th>\n",
       "      <th>renew_offer_type</th>\n",
       "      <th>sales_channel</th>\n",
       "      <th>total_claim_amount</th>\n",
       "      <th>vehicle_class</th>\n",
       "      <th>vehicle_size</th>\n",
       "      <th>clv_segment</th>\n",
       "      <th>policy_age_segment</th>\n",
       "    </tr>\n",
       "  </thead>\n",
       "  <tbody>\n",
       "    <tr>\n",
       "      <th>0</th>\n",
       "      <td>BU79786</td>\n",
       "      <td>Washington</td>\n",
       "      <td>2763.519279</td>\n",
       "      <td>No</td>\n",
       "      <td>Basic</td>\n",
       "      <td>Bachelor</td>\n",
       "      <td>2/24/11</td>\n",
       "      <td>Employed</td>\n",
       "      <td>F</td>\n",
       "      <td>56274</td>\n",
       "      <td>Suburban</td>\n",
       "      <td>Married</td>\n",
       "      <td>69</td>\n",
       "      <td>32</td>\n",
       "      <td>5</td>\n",
       "      <td>0</td>\n",
       "      <td>1</td>\n",
       "      <td>Corporate Auto</td>\n",
       "      <td>Corporate L3</td>\n",
       "      <td>Offer1</td>\n",
       "      <td>Agent</td>\n",
       "      <td>384.811147</td>\n",
       "      <td>Two-Door Car</td>\n",
       "      <td>Medsize</td>\n",
       "      <td>low</td>\n",
       "      <td>low</td>\n",
       "    </tr>\n",
       "    <tr>\n",
       "      <th>1</th>\n",
       "      <td>QZ44356</td>\n",
       "      <td>Arizona</td>\n",
       "      <td>6979.535903</td>\n",
       "      <td>No</td>\n",
       "      <td>Extended</td>\n",
       "      <td>Bachelor</td>\n",
       "      <td>1/31/11</td>\n",
       "      <td>Unemployed</td>\n",
       "      <td>F</td>\n",
       "      <td>0</td>\n",
       "      <td>Suburban</td>\n",
       "      <td>Single</td>\n",
       "      <td>94</td>\n",
       "      <td>13</td>\n",
       "      <td>42</td>\n",
       "      <td>0</td>\n",
       "      <td>8</td>\n",
       "      <td>Personal Auto</td>\n",
       "      <td>Personal L3</td>\n",
       "      <td>Offer3</td>\n",
       "      <td>Agent</td>\n",
       "      <td>1131.464935</td>\n",
       "      <td>Four-Door Car</td>\n",
       "      <td>Medsize</td>\n",
       "      <td>high</td>\n",
       "      <td>low</td>\n",
       "    </tr>\n",
       "    <tr>\n",
       "      <th>2</th>\n",
       "      <td>AI49188</td>\n",
       "      <td>Nevada</td>\n",
       "      <td>12887.431650</td>\n",
       "      <td>No</td>\n",
       "      <td>Premium</td>\n",
       "      <td>Bachelor</td>\n",
       "      <td>2/19/11</td>\n",
       "      <td>Employed</td>\n",
       "      <td>F</td>\n",
       "      <td>48767</td>\n",
       "      <td>Suburban</td>\n",
       "      <td>Married</td>\n",
       "      <td>108</td>\n",
       "      <td>18</td>\n",
       "      <td>38</td>\n",
       "      <td>0</td>\n",
       "      <td>2</td>\n",
       "      <td>Personal Auto</td>\n",
       "      <td>Personal L3</td>\n",
       "      <td>Offer1</td>\n",
       "      <td>Agent</td>\n",
       "      <td>566.472247</td>\n",
       "      <td>Two-Door Car</td>\n",
       "      <td>Medsize</td>\n",
       "      <td>high</td>\n",
       "      <td>low</td>\n",
       "    </tr>\n",
       "    <tr>\n",
       "      <th>3</th>\n",
       "      <td>WW63253</td>\n",
       "      <td>California</td>\n",
       "      <td>7645.861827</td>\n",
       "      <td>No</td>\n",
       "      <td>Basic</td>\n",
       "      <td>Bachelor</td>\n",
       "      <td>1/20/11</td>\n",
       "      <td>Unemployed</td>\n",
       "      <td>M</td>\n",
       "      <td>0</td>\n",
       "      <td>Suburban</td>\n",
       "      <td>Married</td>\n",
       "      <td>106</td>\n",
       "      <td>18</td>\n",
       "      <td>65</td>\n",
       "      <td>0</td>\n",
       "      <td>7</td>\n",
       "      <td>Corporate Auto</td>\n",
       "      <td>Corporate L2</td>\n",
       "      <td>Offer1</td>\n",
       "      <td>Call Center</td>\n",
       "      <td>529.881344</td>\n",
       "      <td>SUV</td>\n",
       "      <td>Medsize</td>\n",
       "      <td>high</td>\n",
       "      <td>high</td>\n",
       "    </tr>\n",
       "    <tr>\n",
       "      <th>4</th>\n",
       "      <td>HB64268</td>\n",
       "      <td>Washington</td>\n",
       "      <td>2813.692575</td>\n",
       "      <td>No</td>\n",
       "      <td>Basic</td>\n",
       "      <td>Bachelor</td>\n",
       "      <td>2/3/11</td>\n",
       "      <td>Employed</td>\n",
       "      <td>M</td>\n",
       "      <td>43836</td>\n",
       "      <td>Rural</td>\n",
       "      <td>Single</td>\n",
       "      <td>73</td>\n",
       "      <td>12</td>\n",
       "      <td>44</td>\n",
       "      <td>0</td>\n",
       "      <td>1</td>\n",
       "      <td>Personal Auto</td>\n",
       "      <td>Personal L1</td>\n",
       "      <td>Offer1</td>\n",
       "      <td>Agent</td>\n",
       "      <td>138.130879</td>\n",
       "      <td>Four-Door Car</td>\n",
       "      <td>Medsize</td>\n",
       "      <td>low</td>\n",
       "      <td>low</td>\n",
       "    </tr>\n",
       "  </tbody>\n",
       "</table>\n",
       "</div>"
      ],
      "text/plain": [
       "  customer       state  customer_lifetime_value response  coverage education  \\\n",
       "0  BU79786  Washington              2763.519279       No     Basic  Bachelor   \n",
       "1  QZ44356     Arizona              6979.535903       No  Extended  Bachelor   \n",
       "2  AI49188      Nevada             12887.431650       No   Premium  Bachelor   \n",
       "3  WW63253  California              7645.861827       No     Basic  Bachelor   \n",
       "4  HB64268  Washington              2813.692575       No     Basic  Bachelor   \n",
       "\n",
       "  effective_to_date employmentstatus gender  income location_code  \\\n",
       "0           2/24/11         Employed      F   56274      Suburban   \n",
       "1           1/31/11       Unemployed      F       0      Suburban   \n",
       "2           2/19/11         Employed      F   48767      Suburban   \n",
       "3           1/20/11       Unemployed      M       0      Suburban   \n",
       "4            2/3/11         Employed      M   43836         Rural   \n",
       "\n",
       "  marital_status  monthly_premium_auto  months_since_last_claim  \\\n",
       "0        Married                    69                       32   \n",
       "1         Single                    94                       13   \n",
       "2        Married                   108                       18   \n",
       "3        Married                   106                       18   \n",
       "4         Single                    73                       12   \n",
       "\n",
       "   months_since_policy_inception  number_of_open_complaints  \\\n",
       "0                              5                          0   \n",
       "1                             42                          0   \n",
       "2                             38                          0   \n",
       "3                             65                          0   \n",
       "4                             44                          0   \n",
       "\n",
       "   number_of_policies     policy_type        policy renew_offer_type  \\\n",
       "0                   1  Corporate Auto  Corporate L3           Offer1   \n",
       "1                   8   Personal Auto   Personal L3           Offer3   \n",
       "2                   2   Personal Auto   Personal L3           Offer1   \n",
       "3                   7  Corporate Auto  Corporate L2           Offer1   \n",
       "4                   1   Personal Auto   Personal L1           Offer1   \n",
       "\n",
       "  sales_channel  total_claim_amount  vehicle_class vehicle_size clv_segment  \\\n",
       "0         Agent          384.811147   Two-Door Car      Medsize         low   \n",
       "1         Agent         1131.464935  Four-Door Car      Medsize        high   \n",
       "2         Agent          566.472247   Two-Door Car      Medsize        high   \n",
       "3   Call Center          529.881344            SUV      Medsize        high   \n",
       "4         Agent          138.130879  Four-Door Car      Medsize         low   \n",
       "\n",
       "  policy_age_segment  \n",
       "0                low  \n",
       "1                low  \n",
       "2                low  \n",
       "3               high  \n",
       "4                low  "
      ]
     },
     "execution_count": 24,
     "metadata": {},
     "output_type": "execute_result"
    }
   ],
   "source": [
    "data.head()"
   ]
  },
  {
   "cell_type": "code",
   "execution_count": 25,
   "metadata": {},
   "outputs": [
    {
     "data": {
      "image/png": "[encoded data removed]",
      "text/plain": [
       "<Figure size 720x504 with 1 Axes>"
      ]
     },
     "metadata": {
      "needs_background": "light"
     },
     "output_type": "display_data"
    }
   ],
   "source": [
    "# visualizing these segments (4 comb high-low)\n",
    "\n",
    "\n",
    "ax=data.loc[(data.clv_segment=='high')&(data.policy_age_segment=='high')]\\\n",
    "       .plot.scatter(x='months_since_policy_inception', \n",
    "                     y='customer_lifetime_value', \n",
    "                     logy=True,\n",
    "                     color='red')\n",
    "\n",
    "data.loc[(data.clv_segment=='low')&(data.policy_age_segment=='high')]\\\n",
    "    .plot.scatter(ax=ax,\n",
    "                  x='months_since_policy_inception', \n",
    "                  y='customer_lifetime_value', \n",
    "                  logy=True,\n",
    "                  color='blue')\n",
    "\n",
    "data.loc[(data.clv_segment=='high')&(data.policy_age_segment=='low')]\\\n",
    "    .plot.scatter(ax=ax,\n",
    "                  x='months_since_policy_inception', \n",
    "                  y='customer_lifetime_value', \n",
    "                  logy=True,\n",
    "                  color='orange')\n",
    "\n",
    "data.loc[(data.clv_segment=='low')&(data.policy_age_segment=='low')]\\\n",
    "    .plot.scatter(ax=ax,\n",
    "                  x='months_since_policy_inception',\n",
    "                  y='customer_lifetime_value', \n",
    "                  logy=True,\n",
    "                  color='green',\n",
    "                  grid=True,\n",
    "                  figsize=(10, 7))\n",
    "\n",
    "ax.set_ylim(1e3, 3*1e5)\n",
    "ax.set_ylabel('CLV (in log scale)')\n",
    "ax.set_xlabel('Months Since Policy Inception')\n",
    "ax.set_title('Segments by CLV and Policy Age')\n",
    "plt.show();"
   ]
  },
  {
   "cell_type": "markdown",
   "metadata": {},
   "source": [
    "`logy=True` transform the scale to log scale and it is often used for monetary values as they often have high skewness in their values. "
   ]
  },
  {
   "cell_type": "code",
   "execution_count": 26,
   "metadata": {},
   "outputs": [
    {
     "data": {
      "image/png": "[encoded data removed]",
      "text/plain": [
       "<Figure size 864x576 with 1 Axes>"
      ]
     },
     "metadata": {
      "needs_background": "light"
     },
     "output_type": "display_data"
    },
    {
     "data": {
      "text/html": [
       "<div>\n",
       "<style scoped>\n",
       "    .dataframe tbody tr th:only-of-type {\n",
       "        vertical-align: middle;\n",
       "    }\n",
       "\n",
       "    .dataframe tbody tr th {\n",
       "        vertical-align: top;\n",
       "    }\n",
       "\n",
       "    .dataframe thead th {\n",
       "        text-align: right;\n",
       "    }\n",
       "</style>\n",
       "<table border=\"1\" class=\"dataframe\">\n",
       "  <thead>\n",
       "    <tr style=\"text-align: right;\">\n",
       "      <th>policy_age_segment</th>\n",
       "      <th>high</th>\n",
       "      <th>low</th>\n",
       "    </tr>\n",
       "    <tr>\n",
       "      <th>clv_segment</th>\n",
       "      <th></th>\n",
       "      <th></th>\n",
       "    </tr>\n",
       "  </thead>\n",
       "  <tbody>\n",
       "    <tr>\n",
       "      <th>high</th>\n",
       "      <td>0.068331</td>\n",
       "      <td>0.067017</td>\n",
       "    </tr>\n",
       "    <tr>\n",
       "      <th>low</th>\n",
       "      <td>0.080123</td>\n",
       "      <td>0.070928</td>\n",
       "    </tr>\n",
       "  </tbody>\n",
       "</table>\n",
       "</div>"
      ],
      "text/plain": [
       "policy_age_segment      high       low\n",
       "clv_segment                           \n",
       "high                0.068331  0.067017\n",
       "low                 0.080123  0.070928"
      ]
     },
     "execution_count": 26,
     "metadata": {},
     "output_type": "execute_result"
    }
   ],
   "source": [
    "# checking if there is a noticable difference \n",
    "\n",
    "engage('Yes', 'clv_segment', 'policy_age_segment')"
   ]
  },
  {
   "cell_type": "markdown",
   "metadata": {},
   "source": [
    "**As we can notice, High Policy Age Segment has higher engagement than the Low Policy Age Segment. This suggests that those customers who have been insured by this company longer respond better. Moreover, the High Policy Age and Low CLV segment has the highest engagement rate among the four segments.By creating different customer segments based on customer attributes, we can better understand how different groups of customers behave differently, and consequently, use this information to customize the marketing messagges.**"
   ]
  },
  {
   "cell_type": "markdown",
   "metadata": {},
   "source": [
    "### Conclusion\n",
    "\n",
    "\n",
    "+ Target:\n",
    "    + **Improve CLV** (Average CLV: 8005)\n",
    "    \n",
    "+ Insights:\n",
    "    + Only 14% of the customers responded to marketing calls (Improve response)\n",
    "    + Offer Type 2 has the highest engagement rate (What's the difference between offers?)\n",
    "    + Luxury SUV respond with a higher chance to Offer1 than to Offer2.\n",
    "    + Mainly focus on four-door cars\n",
    "    + Offer Type 3 is not representative (Change it and/or remove it, focus on luxury and sports cars. Same with offer type 4)\n",
    "    + Women have less engaged \n",
    "    + Men have no engage if they have luxury cars\n",
    "    + Offer type 3 does not work on branch and call center sales channel \n",
    "    + Offer type 1 needs improve in call centers \n",
    "    + Customers who have been insured longer respond better"
   ]
  },
  {
   "cell_type": "code",
   "execution_count": null,
   "metadata": {},
   "outputs": [],
   "source": []
  }
 ],
 "metadata": {
  "kernelspec": {
   "display_name": "Python 3",
   "language": "python",
   "name": "python3"
  },
  "language_info": {
   "codemirror_mode": {
    "name": "ipython",
    "version": 3
   },
   "file_extension": ".py",
   "mimetype": "text/x-python",
   "name": "python",
   "nbconvert_exporter": "python",
   "pygments_lexer": "ipython3",
   "version": "3.7.6"
  }
 },
 "nbformat": 4,
 "nbformat_minor": 2
}
